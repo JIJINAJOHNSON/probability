{
 "cells": [
  {
   "cell_type": "code",
   "execution_count": 43,
   "metadata": {},
   "outputs": [],
   "source": [
    "class Hat:\n",
    "    def __init__(self,hat,probability):\n",
    "        self.hat=hat\n",
    "        self.probability=probability\n",
    "    def show_hat_details(self):\n",
    "     \n",
    "        print(self.hat)\n",
    "        print(self.probability)"
   ]
  },
  {
   "cell_type": "code",
   "execution_count": 44,
   "metadata": {},
   "outputs": [
    {
     "name": "stdout",
     "output_type": "stream",
     "text": [
      "black=6, red=4, green=3\n",
      "13\n"
     ]
    }
   ],
   "source": [
    "h1=Hat((\"black=6, red=4, green=3\"),13)\n",
    "h1.show_hat_details()"
   ]
  },
  {
   "cell_type": "code",
   "execution_count": 45,
   "metadata": {},
   "outputs": [],
   "source": [
    "class hats(Hat):\n",
    "    def show_hats(self):\n",
    "        print(\"probability of hat\")"
   ]
  },
  {
   "cell_type": "code",
   "execution_count": 46,
   "metadata": {},
   "outputs": [
    {
     "name": "stdout",
     "output_type": "stream",
     "text": [
      "red=2,green=1\n",
      "0.7692307692307693\n"
     ]
    }
   ],
   "source": [
    "p1=hats((\"red=2,green=1\"),10/13) \n",
    "p1.show_hat_details()"
   ]
  },
  {
   "cell_type": "code",
   "execution_count": 47,
   "metadata": {},
   "outputs": [
    {
     "name": "stdout",
     "output_type": "stream",
     "text": [
      "red=5, orange=4\n",
      "9\n"
     ]
    }
   ],
   "source": [
    "hat2=Hat((\"red=5, orange=4\"),9)\n",
    "hat2.show_hat_details()"
   ]
  },
  {
   "cell_type": "code",
   "execution_count": 48,
   "metadata": {},
   "outputs": [
    {
     "name": "stdout",
     "output_type": "stream",
     "text": [
      "red=2,green=1\n",
      "0.5555555555555556\n"
     ]
    }
   ],
   "source": [
    "prob2=hats((\"red=2,green=1\"),5/9) \n",
    "prob2.show_hat_details()"
   ]
  },
  {
   "cell_type": "code",
   "execution_count": 49,
   "metadata": {},
   "outputs": [
    {
     "name": "stdout",
     "output_type": "stream",
     "text": [
      "red=5, orange=4, black=1, blue=0, pink=2, striped=9\n",
      "21\n"
     ]
    }
   ],
   "source": [
    "hat3=Hat((\"red=5, orange=4, black=1, blue=0, pink=2, striped=9\"),21)\n",
    "hat3.show_hat_details()"
   ]
  },
  {
   "cell_type": "code",
   "execution_count": 50,
   "metadata": {},
   "outputs": [
    {
     "name": "stdout",
     "output_type": "stream",
     "text": [
      "red=2,green=1\n",
      "0.23809523809523808\n"
     ]
    }
   ],
   "source": [
    "prob3=hats((\"red=2,green=1\"),5/21) \n",
    "prob3.show_hat_details()"
   ]
  },
  {
   "cell_type": "code",
   "execution_count": 51,
   "metadata": {},
   "outputs": [
    {
     "name": "stdout",
     "output_type": "stream",
     "text": [
      "yellow=3, blue=2, green=6\n",
      "11\n"
     ]
    }
   ],
   "source": [
    "hat1=Hat((\"yellow=3, blue=2, green=6\"),11)\n",
    "hat1.show_hat_details()"
   ]
  },
  {
   "cell_type": "code",
   "execution_count": 52,
   "metadata": {},
   "outputs": [
    {
     "name": "stdout",
     "output_type": "stream",
     "text": [
      "red=2,green=1\n",
      "0.5454545454545454\n"
     ]
    }
   ],
   "source": [
    "prob1=hats((\"red=2,green=1\"),6/11) \n",
    "prob1.show_hat_details()"
   ]
  }
 ],
 "metadata": {
  "kernelspec": {
   "display_name": "Python 3",
   "language": "python",
   "name": "python3"
  }
 },
 "nbformat": 4,
 "nbformat_minor": 4
}
